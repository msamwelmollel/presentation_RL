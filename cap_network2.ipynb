{
  "cells": [
    {
      "cell_type": "markdown",
      "metadata": {
        "id": "view-in-github",
        "colab_type": "text"
      },
      "source": [
        "<a href=\"https://colab.research.google.com/github/msamwelmollel/presentation_RL/blob/main/cap_network2.ipynb\" target=\"_parent\"><img src=\"https://colab.research.google.com/assets/colab-badge.svg\" alt=\"Open In Colab\"/></a>"
      ]
    },
    {
      "cell_type": "code",
      "source": [
        "from google.colab import drive\n",
        "drive.mount('/content/drive')"
      ],
      "metadata": {
        "colab": {
          "base_uri": "https://localhost:8080/"
        },
        "id": "nkY_OFHrVfRR",
        "outputId": "1f0202af-6edf-466c-d556-9bd2edeead46"
      },
      "execution_count": 1,
      "outputs": [
        {
          "output_type": "stream",
          "name": "stdout",
          "text": [
            "Mounted at /content/drive\n"
          ]
        }
      ]
    },
    {
      "cell_type": "code",
      "execution_count": 7,
      "metadata": {
        "id": "lVNEjYFqu21d"
      },
      "outputs": [],
      "source": [
        "import tensorflow as tf\n",
        "from tensorflow.keras import layers, models\n",
        "import numpy as np\n",
        "import os\n",
        "from sklearn.model_selection import train_test_split\n",
        "from tensorflow.keras.preprocessing.image import load_img, img_to_array"
      ]
    },
    {
      "cell_type": "markdown",
      "metadata": {
        "id": "Vrt-kYK6u21e"
      },
      "source": [
        "Functions"
      ]
    },
    {
      "cell_type": "code",
      "execution_count": 8,
      "metadata": {
        "id": "ZSg2W4Gou21f"
      },
      "outputs": [],
      "source": [
        "# CapsuleLayer implementation\n",
        "class CapsuleLayer(layers.Layer):\n",
        "    def __init__(self, num_capsules, dim_capsules, routings=3, **kwargs):\n",
        "        super(CapsuleLayer, self).__init__(**kwargs)\n",
        "        self.num_capsules = num_capsules\n",
        "        self.dim_capsules = dim_capsules\n",
        "        self.routings = routings\n",
        "\n",
        "    def build(self, input_shape):\n",
        "        self.input_num_capsules = input_shape[1]\n",
        "        self.input_dim_capsule = input_shape[2]\n",
        "\n",
        "        self.W = self.add_weight(shape=[self.num_capsules, self.input_num_capsules,\n",
        "                                        self.dim_capsules, self.input_dim_capsule],\n",
        "                                 initializer='glorot_uniform',\n",
        "                                 name='W')\n",
        "\n",
        "        self.built = True\n",
        "\n",
        "    def call(self, inputs):\n",
        "        inputs_expand = tf.expand_dims(tf.expand_dims(inputs, 1), -1)\n",
        "        inputs_tiled = tf.tile(inputs_expand, [1, self.num_capsules, 1, 1, 1])\n",
        "        inputs_hat = tf.map_fn(lambda x: tf.matmul(self.W, x), elems=inputs_tiled)\n",
        "\n",
        "        b = tf.zeros(shape=[tf.shape(inputs)[0], self.num_capsules, self.input_num_capsules, 1, 1])\n",
        "\n",
        "        assert self.routings > 0, 'The routings should be > 0.'\n",
        "        for i in range(self.routings):\n",
        "            c = tf.nn.softmax(b, axis=1)\n",
        "            outputs = squash(tf.reduce_sum(c * inputs_hat, axis=2, keepdims=True))\n",
        "\n",
        "            if i < self.routings - 1:\n",
        "                b += tf.reduce_sum(inputs_hat * outputs, axis=-2, keepdims=True)\n",
        "\n",
        "        return tf.squeeze(outputs, axis=[2, -1])\n",
        "\n",
        "def squash(vectors, axis=-1):\n",
        "    s_squared_norm = tf.reduce_sum(tf.square(vectors), axis=axis, keepdims=True)\n",
        "    scale = s_squared_norm / (1 + s_squared_norm) / tf.sqrt(s_squared_norm + tf.keras.backend.epsilon())\n",
        "    return scale * vectors\n"
      ]
    },
    {
      "cell_type": "code",
      "source": [
        "# Function to load data\n",
        "def load_data(data_dir, img_size=(64, 64)):\n",
        "    categories = ['deep', 'fast', 'normal']\n",
        "    data = []\n",
        "    labels = []\n",
        "    for i, category in enumerate(categories):\n",
        "        path = os.path.join(data_dir, category, f'RR_{category}')\n",
        "        for img_name in os.listdir(path):\n",
        "            if img_name.lower().endswith('.png'):\n",
        "                img_path = os.path.join(path, img_name)\n",
        "                img = load_img(img_path, target_size=img_size, color_mode='grayscale')\n",
        "                img_array = img_to_array(img) / 255.0  # Normalize pixel values\n",
        "                data.append(img_array)\n",
        "                labels.append(i)\n",
        "    return np.array(data), np.array(labels)\n",
        "\n",
        "# Function to build the model\n",
        "def build_model(input_shape, num_classes):\n",
        "    inputs = layers.Input(shape=input_shape)\n",
        "    x = layers.Conv2D(256, 9, activation='relu', padding='valid')(inputs)\n",
        "    x = layers.Conv2D(256, 9, activation='relu', padding='valid')(x)\n",
        "    x = layers.Conv2D(128, 9, activation='relu', padding='valid')(x)\n",
        "    x = layers.Conv2D(128, 9, activation='relu', padding='valid')(x)\n",
        "    x = layers.Reshape((-1, 128))(x)\n",
        "    digitcaps = CapsuleLayer(num_classes, 16)(x)\n",
        "    output = layers.Lambda(lambda z: tf.sqrt(tf.reduce_sum(tf.square(z), axis=-1)))(digitcaps)\n",
        "\n",
        "    model = models.Model(inputs=inputs, outputs=output)\n",
        "    return model"
      ],
      "metadata": {
        "id": "-ft8SyZMwM6E"
      },
      "execution_count": 9,
      "outputs": []
    },
    {
      "cell_type": "code",
      "execution_count": 5,
      "metadata": {
        "colab": {
          "base_uri": "https://localhost:8080/"
        },
        "id": "Sp8J25BKu21g",
        "outputId": "4a835aa3-f6ee-4707-928b-509e48c222ad"
      },
      "outputs": [
        {
          "output_type": "stream",
          "name": "stdout",
          "text": [
            "drive  sample_data\n"
          ]
        }
      ],
      "source": [
        "!ls"
      ]
    },
    {
      "cell_type": "code",
      "execution_count": null,
      "metadata": {
        "colab": {
          "base_uri": "https://localhost:8080/"
        },
        "id": "R8-Bnkx5u21g",
        "outputId": "f29e5e25-4101-403b-8dee-e2a949182cc8"
      },
      "outputs": [
        {
          "output_type": "stream",
          "name": "stdout",
          "text": [
            "Epoch 1/50\n",
            "\u001b[1m 1/14\u001b[0m \u001b[32m━\u001b[0m\u001b[37m━━━━━━━━━━━━━━━━━━━\u001b[0m \u001b[1m14:42\u001b[0m 68s/step - accuracy: 0.4375 - loss: 1.0899"
          ]
        }
      ],
      "source": [
        "data_dir = \"/content/drive/MyDrive/Data/images\"\n",
        "\n",
        "# Load the data\n",
        "X, y = load_data(data_dir)\n",
        "\n",
        "# Split data into train and test sets\n",
        "X_train, X_test, y_train, y_test = train_test_split(X, y, test_size=0.2, random_state=42)\n",
        "\n",
        "# Build and compile the model\n",
        "model = build_model(input_shape=X.shape[1:], num_classes=3)\n",
        "model.compile(optimizer='adam', loss='sparse_categorical_crossentropy', metrics=['accuracy'])\n",
        "\n",
        "# Train the model\n",
        "model.fit(X_train, y_train, epochs=50, batch_size=32, validation_split=0.2)\n",
        "\n",
        "# Evaluate the model\n",
        "test_loss, test_accuracy = model.evaluate(X_test, y_test)\n",
        "print(f\"Test accuracy: {test_accuracy}\")\n",
        "\n",
        "# Save the model\n",
        "model.save('hr_prediction_model.h5')\n",
        "print(\"Model saved as 'hr_prediction_model.h5'\")"
      ]
    }
  ],
  "metadata": {
    "language_info": {
      "name": "python"
    },
    "colab": {
      "provenance": [],
      "include_colab_link": true
    },
    "kernelspec": {
      "name": "python3",
      "display_name": "Python 3"
    }
  },
  "nbformat": 4,
  "nbformat_minor": 0
}